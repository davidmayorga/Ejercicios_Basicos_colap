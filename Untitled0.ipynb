{
  "nbformat": 4,
  "nbformat_minor": 0,
  "metadata": {
    "colab": {
      "provenance": [],
      "authorship_tag": "ABX9TyOYJP3E0qaqQjxKd2F8lZqX",
      "include_colab_link": true
    },
    "kernelspec": {
      "name": "python3",
      "display_name": "Python 3"
    },
    "language_info": {
      "name": "python"
    }
  },
  "cells": [
    {
      "cell_type": "markdown",
      "metadata": {
        "id": "view-in-github",
        "colab_type": "text"
      },
      "source": [
        "<a href=\"https://colab.research.google.com/github/davidmayorga/Ejercicios_Basicos_colap/blob/main/Untitled0.ipynb\" target=\"_parent\"><img src=\"https://colab.research.google.com/assets/colab-badge.svg\" alt=\"Open In Colab\"/></a>"
      ]
    },
    {
      "cell_type": "code",
      "execution_count": 2,
      "metadata": {
        "id": "sTTPzQiYS2TE"
      },
      "outputs": [],
      "source": [
        "# \n"
      ]
    },
    {
      "cell_type": "markdown",
      "source": [
        "# Ejercicios básicos Python\n",
        "1. suma de dos numeros\n",
        "2. Potencia en un número"
      ],
      "metadata": {
        "id": "uhV3Pgz5g02C"
      }
    },
    {
      "cell_type": "code",
      "source": [
        "from __future__ import print_function\n",
        "# Suma de dos numeros enteros\n",
        "print(\"-------------------------------------------------\")\n",
        "print(\"---------------Suma de dos enteros---------------\")\n",
        "print(\"-------------------------------------------------\")\n",
        "\n",
        "# input\n",
        "x = int(input(\"Digite el valor de x: \"))\n",
        "y = int(input(\"Digite el valor de y: \"))\n",
        "\n",
        "# Processing\n",
        "z = x + y \n",
        "\n",
        "#output\n",
        "\n",
        "print(\" La suma de \",x,\" y \",y,\" es igual a: \",z)\n",
        "\n"
      ],
      "metadata": {
        "id": "0J86j2IdiGh8"
      },
      "execution_count": null,
      "outputs": []
    },
    {
      "cell_type": "code",
      "source": [
        "# Potencia de un numero \n",
        "print(\"----------------------------------------\")\n",
        "print(\"--------------- Potencia ---------------\")\n",
        "print(\"----------------------------------------\")\n",
        "# Input\n",
        "x = int(input(\"Digite el valor de x: \"))\n",
        "y = int(input(\"Digite el valor de y: \"))\n",
        "\n",
        "# Processing\n",
        "z = x ** y\n",
        "\n",
        "# output\n",
        "print(x,\"elevado a la pontecia de \",y,\"es igual a\",z)"
      ],
      "metadata": {
        "id": "JO_NrURrkuLR"
      },
      "execution_count": null,
      "outputs": []
    },
    {
      "cell_type": "code",
      "source": [],
      "metadata": {
        "id": "3jqvG-GnkuQl"
      },
      "execution_count": null,
      "outputs": []
    }
  ]
}