{
  "nbformat": 4,
  "nbformat_minor": 0,
  "metadata": {
    "colab": {
      "provenance": [],
      "authorship_tag": "ABX9TyOmpG7mdnKu3cFT6NxxPlQT",
      "include_colab_link": true
    },
    "kernelspec": {
      "name": "python3",
      "display_name": "Python 3"
    },
    "language_info": {
      "name": "python"
    }
  },
  "cells": [
    {
      "cell_type": "markdown",
      "metadata": {
        "id": "view-in-github",
        "colab_type": "text"
      },
      "source": [
        "<a href=\"https://colab.research.google.com/github/davidmayorga/Ejercicios_Basicos_colap/blob/main/Untitled0.ipynb\" target=\"_parent\"><img src=\"https://colab.research.google.com/assets/colab-badge.svg\" alt=\"Open In Colab\"/></a>"
      ]
    },
    {
      "cell_type": "code",
      "execution_count": 2,
      "metadata": {
        "id": "sTTPzQiYS2TE"
      },
      "outputs": [],
      "source": [
        "# \n"
      ]
    },
    {
      "cell_type": "markdown",
      "source": [
        "# Ejercicios básicos Python\n",
        "1. suma de dos numeros\n",
        "2. Potencia en un número"
      ],
      "metadata": {
        "id": "uhV3Pgz5g02C"
      }
    },
    {
      "cell_type": "code",
      "source": [
        "from __future__ import print_function\n",
        "# Suma de dos numeros enteros\n",
        "print(\"-------------------------------------------------\")\n",
        "print(\"---------------Suma de dos enteros---------------\")\n",
        "print(\"-------------------------------------------------\")\n",
        "\n",
        "# input\n",
        "x = int(input(\"Digite el valor de x: \"))\n",
        "y = int(input(\"Digite el valor de y: \"))\n",
        "\n",
        "# Processing\n",
        "z = x + y \n",
        "\n",
        "#output\n",
        "\n",
        "print(\" La suma de \",x,\" y \",y,\" es igual a: \",z)\n",
        "\n"
      ],
      "metadata": {
        "colab": {
          "base_uri": "https://localhost:8080/"
        },
        "id": "0J86j2IdiGh8",
        "outputId": "15afa9d3-33f4-4e6d-9a79-d2043c209a48"
      },
      "execution_count": 3,
      "outputs": [
        {
          "output_type": "stream",
          "name": "stdout",
          "text": [
            "-------------------------------------------------\n",
            "---------------Suma de dos enteros---------------\n",
            "-------------------------------------------------\n",
            "Digite el valor de x: 3\n",
            "Digite el valor de y: 4\n",
            " La suma de  3  y  4  es igual a:  7\n"
          ]
        }
      ]
    }
  ]
}